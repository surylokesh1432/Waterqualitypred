{
  "cells": [
    {
      "cell_type": "markdown",
      "metadata": {
        "id": "view-in-github",
        "colab_type": "text"
      },
      "source": [
        "<a href=\"https://colab.research.google.com/github/surylokesh1432/Waterqualitypred/blob/main/WaterQualityPred.ipynb\" target=\"_parent\"><img src=\"https://colab.research.google.com/assets/colab-badge.svg\" alt=\"Open In Colab\"/></a>"
      ]
    },
    {
      "cell_type": "code",
      "execution_count": 2,
      "id": "b360abbe-e87d-4c36-af38-b35bd48d2517",
      "metadata": {
        "id": "b360abbe-e87d-4c36-af38-b35bd48d2517",
        "outputId": "7f641e15-f9b6-49aa-8149-6676eb33c4cb",
        "colab": {
          "base_uri": "https://localhost:8080/",
          "height": 110
        }
      },
      "outputs": [
        {
          "output_type": "error",
          "ename": "SyntaxError",
          "evalue": "invalid syntax (ipython-input-2-432501038.py, line 2)",
          "traceback": [
            "\u001b[0;36m  File \u001b[0;32m\"/tmp/ipython-input-2-432501038.py\"\u001b[0;36m, line \u001b[0;32m2\u001b[0m\n\u001b[0;31m    pip install pandas numpy matplotlib seaborn scikit-learn\u001b[0m\n\u001b[0m        ^\u001b[0m\n\u001b[0;31mSyntaxError\u001b[0m\u001b[0;31m:\u001b[0m invalid syntax\n"
          ]
        }
      ],
      "source": [
        "# To install basic/necessary libraries\n",
        "pip install pandas numpy matplotlib seaborn scikit-learn"
      ]
    },
    {
      "cell_type": "code",
      "execution_count": null,
      "id": "b024a389-e6d4-4e96-a75f-1d5ded1c4482",
      "metadata": {
        "id": "b024a389-e6d4-4e96-a75f-1d5ded1c4482"
      },
      "outputs": [],
      "source": [
        "# Import necessary libraries\n",
        "import pandas as pd # data manipulation\n",
        "import numpy as np # numerical python - linear algebra\n",
        "\n",
        "from sklearn.multioutput import MultiOutputRegressor\n",
        "from sklearn.ensemble import RandomForestRegressor\n",
        "from sklearn.model_selection import train_test_split\n",
        "from sklearn.metrics import mean_squared_error, r2_score"
      ]
    },
    {
      "cell_type": "code",
      "execution_count": null,
      "id": "cbae76f5-2560-439f-b42a-7ee340766c00",
      "metadata": {
        "id": "cbae76f5-2560-439f-b42a-7ee340766c00"
      },
      "outputs": [],
      "source": [
        "# load the dataset\n",
        "df = pd.read_csv('PB_All_2000_2021.csv', sep=';')\n",
        "df"
      ]
    },
    {
      "cell_type": "code",
      "execution_count": null,
      "id": "f0695fd7-6929-4c69-8898-e72896900ce7",
      "metadata": {
        "id": "f0695fd7-6929-4c69-8898-e72896900ce7"
      },
      "outputs": [],
      "source": [
        "df.info() # dataset info"
      ]
    },
    {
      "cell_type": "code",
      "execution_count": null,
      "id": "21feb067-09f5-416b-a9a5-43b43cd8d831",
      "metadata": {
        "id": "21feb067-09f5-416b-a9a5-43b43cd8d831"
      },
      "outputs": [],
      "source": [
        "# rows and cols\n",
        "df.shape"
      ]
    },
    {
      "cell_type": "code",
      "execution_count": null,
      "id": "b0e2f909-3b28-4ffd-87ff-689a8ab4d14d",
      "metadata": {
        "id": "b0e2f909-3b28-4ffd-87ff-689a8ab4d14d"
      },
      "outputs": [],
      "source": [
        "# Statistics of the data\n",
        "df.describe().T"
      ]
    },
    {
      "cell_type": "code",
      "execution_count": 3,
      "id": "5f39d8e1-2f68-478f-8d64-838bcdbd2bb3",
      "metadata": {
        "id": "5f39d8e1-2f68-478f-8d64-838bcdbd2bb3",
        "outputId": "e7c9942f-0c37-4cf2-870a-6becdb9c6444",
        "colab": {
          "base_uri": "https://localhost:8080/",
          "height": 164
        }
      },
      "outputs": [
        {
          "output_type": "error",
          "ename": "NameError",
          "evalue": "name 'df' is not defined",
          "traceback": [
            "\u001b[0;31m---------------------------------------------------------------------------\u001b[0m",
            "\u001b[0;31mNameError\u001b[0m                                 Traceback (most recent call last)",
            "\u001b[0;32m/tmp/ipython-input-3-951752754.py\u001b[0m in \u001b[0;36m<cell line: 0>\u001b[0;34m()\u001b[0m\n\u001b[1;32m      1\u001b[0m \u001b[0;31m# Missing values\u001b[0m\u001b[0;34m\u001b[0m\u001b[0;34m\u001b[0m\u001b[0m\n\u001b[0;32m----> 2\u001b[0;31m \u001b[0mdf\u001b[0m\u001b[0;34m.\u001b[0m\u001b[0misnull\u001b[0m\u001b[0;34m(\u001b[0m\u001b[0;34m)\u001b[0m\u001b[0;34m.\u001b[0m\u001b[0msum\u001b[0m\u001b[0;34m(\u001b[0m\u001b[0;34m)\u001b[0m\u001b[0;34m\u001b[0m\u001b[0;34m\u001b[0m\u001b[0m\n\u001b[0m",
            "\u001b[0;31mNameError\u001b[0m: name 'df' is not defined"
          ]
        }
      ],
      "source": [
        "# Missing values\n",
        "df.isnull().sum()"
      ]
    },
    {
      "cell_type": "code",
      "execution_count": null,
      "id": "d146fdb3-998c-461a-84d5-b45af90dffe0",
      "metadata": {
        "id": "d146fdb3-998c-461a-84d5-b45af90dffe0"
      },
      "outputs": [],
      "source": [
        "# date is in object - date format\n",
        "df['date'] = pd.to_datetime(df['date'], format='%d.%m.%Y')\n",
        "df"
      ]
    },
    {
      "cell_type": "code",
      "execution_count": null,
      "id": "fa9fc0e4-e6cd-4810-a68f-3acdc76c15e4",
      "metadata": {
        "id": "fa9fc0e4-e6cd-4810-a68f-3acdc76c15e4"
      },
      "outputs": [],
      "source": [
        "df.info()"
      ]
    },
    {
      "cell_type": "code",
      "execution_count": null,
      "id": "18b44f69-e8b2-4549-814a-a336db31fa94",
      "metadata": {
        "id": "18b44f69-e8b2-4549-814a-a336db31fa94"
      },
      "outputs": [],
      "source": [
        "df = df.sort_values(by=['id', 'date'])\n",
        "df.head()"
      ]
    },
    {
      "cell_type": "code",
      "execution_count": null,
      "id": "16c26fe3-9d39-47a9-80ee-b1332ecdb1aa",
      "metadata": {
        "id": "16c26fe3-9d39-47a9-80ee-b1332ecdb1aa"
      },
      "outputs": [],
      "source": [
        "df['year'] = df['date'].dt.year\n",
        "df['month'] = df['date'].dt.month"
      ]
    },
    {
      "cell_type": "code",
      "execution_count": null,
      "id": "2b1a6f1f-16ff-42df-b0f1-d80a55ffc38d",
      "metadata": {
        "id": "2b1a6f1f-16ff-42df-b0f1-d80a55ffc38d"
      },
      "outputs": [],
      "source": [
        "df.head()"
      ]
    },
    {
      "cell_type": "code",
      "execution_count": null,
      "id": "26bbbce1-8326-4166-be6d-2ce00e616630",
      "metadata": {
        "id": "26bbbce1-8326-4166-be6d-2ce00e616630"
      },
      "outputs": [],
      "source": [
        "df.columns"
      ]
    },
    {
      "cell_type": "code",
      "execution_count": null,
      "id": "297f6475-d446-4147-8d7d-63652cf84205",
      "metadata": {
        "id": "297f6475-d446-4147-8d7d-63652cf84205"
      },
      "outputs": [],
      "source": [
        "pollutants = ['O2', 'NO3', 'NO2', 'SO4',\n",
        "       'PO4', 'CL']"
      ]
    },
    {
      "cell_type": "code",
      "source": [
        "#Week 2\n",
        "# drop the missing values - dropna()\n",
        "df = df.dropna(subset=pollutants)\n",
        "df.head()"
      ],
      "metadata": {
        "id": "aSKZOS4vduuS"
      },
      "id": "aSKZOS4vduuS",
      "execution_count": null,
      "outputs": []
    },
    {
      "cell_type": "code",
      "source": [
        "df.isnull().sum()"
      ],
      "metadata": {
        "id": "06dM6xzId0EC"
      },
      "id": "06dM6xzId0EC",
      "execution_count": null,
      "outputs": []
    }
  ],
  "metadata": {
    "kernelspec": {
      "display_name": "Python 3",
      "name": "python3"
    },
    "language_info": {
      "codemirror_mode": {
        "name": "ipython",
        "version": 3
      },
      "file_extension": ".py",
      "mimetype": "text/x-python",
      "name": "python",
      "nbconvert_exporter": "python",
      "pygments_lexer": "ipython3",
      "version": "3.12.8"
    },
    "colab": {
      "provenance": [],
      "include_colab_link": true
    }
  },
  "nbformat": 4,
  "nbformat_minor": 5
}